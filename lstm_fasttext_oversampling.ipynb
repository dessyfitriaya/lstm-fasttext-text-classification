{
  "cells": [
    {
      "cell_type": "code",
      "execution_count": null,
      "metadata": {
        "colab": {
          "base_uri": "https://localhost:8080/"
        },
        "id": "X69nKzWjm010",
        "outputId": "7f0f8302-077c-4e94-c179-4411294e7649"
      },
      "outputs": [
        {
          "output_type": "stream",
          "name": "stdout",
          "text": [
            "Mounted at /content/drive\n"
          ]
        }
      ],
      "source": [
        "from google.colab import drive\n",
        "drive.mount('/content/drive')"
      ]
    },
    {
      "cell_type": "markdown",
      "metadata": {
        "id": "J6kH81Y15hfv"
      },
      "source": [
        "# load data"
      ]
    },
    {
      "cell_type": "code",
      "execution_count": null,
      "metadata": {
        "colab": {
          "base_uri": "https://localhost:8080/",
          "height": 424
        },
        "id": "w0XVTo335i3G",
        "outputId": "ed68a4b6-9020-4455-a476-ab91aecfed1a"
      },
      "outputs": [
        {
          "output_type": "execute_result",
          "data": {
            "text/plain": [
              "                        label  \\\n",
              "0            Sumber Daya Alam   \n",
              "1                     Politik   \n",
              "2                   Demografi   \n",
              "3                     Politik   \n",
              "4                     Politik   \n",
              "...                       ...   \n",
              "4569                  Politik   \n",
              "4570                  Politik   \n",
              "4571                  Ekonomi   \n",
              "4572  Pertahanan dan Keamanan   \n",
              "4573         Sumber Daya Alam   \n",
              "\n",
              "                                                 string  \n",
              "0     kunjung prabowo resmi serah proyek bantu air b...  \n",
              "1     anies tepuk tangan riah rektor wajib mata kuli...  \n",
              "2     sih dukung dukung ridwan kamil skema balik kal...  \n",
              "3     anies sikap kritis kerja prabowo anggap sopan ...  \n",
              "4     anies baswedan harap asn tni polri pegang sump...  \n",
              "...                                                 ...  \n",
              "4569  debat kemarin pas prabowo diam keluarga laku a...  \n",
              "4570  masyarakat prabowo gibran milik visi jalan asp...  \n",
              "4571  both are irrational but irrational tbh but nev...  \n",
              "4572  look at that ganjar kecimpung legislatif eksek...  \n",
              "4573  acara masak calon presiden nomor urut habis in...  \n",
              "\n",
              "[4574 rows x 2 columns]"
            ],
            "text/html": [
              "\n",
              "  <div id=\"df-c91eacfc-e7dd-4381-901a-4bfd59a516c0\" class=\"colab-df-container\">\n",
              "    <div>\n",
              "<style scoped>\n",
              "    .dataframe tbody tr th:only-of-type {\n",
              "        vertical-align: middle;\n",
              "    }\n",
              "\n",
              "    .dataframe tbody tr th {\n",
              "        vertical-align: top;\n",
              "    }\n",
              "\n",
              "    .dataframe thead th {\n",
              "        text-align: right;\n",
              "    }\n",
              "</style>\n",
              "<table border=\"1\" class=\"dataframe\">\n",
              "  <thead>\n",
              "    <tr style=\"text-align: right;\">\n",
              "      <th></th>\n",
              "      <th>label</th>\n",
              "      <th>string</th>\n",
              "    </tr>\n",
              "  </thead>\n",
              "  <tbody>\n",
              "    <tr>\n",
              "      <th>0</th>\n",
              "      <td>Sumber Daya Alam</td>\n",
              "      <td>kunjung prabowo resmi serah proyek bantu air b...</td>\n",
              "    </tr>\n",
              "    <tr>\n",
              "      <th>1</th>\n",
              "      <td>Politik</td>\n",
              "      <td>anies tepuk tangan riah rektor wajib mata kuli...</td>\n",
              "    </tr>\n",
              "    <tr>\n",
              "      <th>2</th>\n",
              "      <td>Demografi</td>\n",
              "      <td>sih dukung dukung ridwan kamil skema balik kal...</td>\n",
              "    </tr>\n",
              "    <tr>\n",
              "      <th>3</th>\n",
              "      <td>Politik</td>\n",
              "      <td>anies sikap kritis kerja prabowo anggap sopan ...</td>\n",
              "    </tr>\n",
              "    <tr>\n",
              "      <th>4</th>\n",
              "      <td>Politik</td>\n",
              "      <td>anies baswedan harap asn tni polri pegang sump...</td>\n",
              "    </tr>\n",
              "    <tr>\n",
              "      <th>...</th>\n",
              "      <td>...</td>\n",
              "      <td>...</td>\n",
              "    </tr>\n",
              "    <tr>\n",
              "      <th>4569</th>\n",
              "      <td>Politik</td>\n",
              "      <td>debat kemarin pas prabowo diam keluarga laku a...</td>\n",
              "    </tr>\n",
              "    <tr>\n",
              "      <th>4570</th>\n",
              "      <td>Politik</td>\n",
              "      <td>masyarakat prabowo gibran milik visi jalan asp...</td>\n",
              "    </tr>\n",
              "    <tr>\n",
              "      <th>4571</th>\n",
              "      <td>Ekonomi</td>\n",
              "      <td>both are irrational but irrational tbh but nev...</td>\n",
              "    </tr>\n",
              "    <tr>\n",
              "      <th>4572</th>\n",
              "      <td>Pertahanan dan Keamanan</td>\n",
              "      <td>look at that ganjar kecimpung legislatif eksek...</td>\n",
              "    </tr>\n",
              "    <tr>\n",
              "      <th>4573</th>\n",
              "      <td>Sumber Daya Alam</td>\n",
              "      <td>acara masak calon presiden nomor urut habis in...</td>\n",
              "    </tr>\n",
              "  </tbody>\n",
              "</table>\n",
              "<p>4574 rows × 2 columns</p>\n",
              "</div>\n",
              "    <div class=\"colab-df-buttons\">\n",
              "\n",
              "  <div class=\"colab-df-container\">\n",
              "    <button class=\"colab-df-convert\" onclick=\"convertToInteractive('df-c91eacfc-e7dd-4381-901a-4bfd59a516c0')\"\n",
              "            title=\"Convert this dataframe to an interactive table.\"\n",
              "            style=\"display:none;\">\n",
              "\n",
              "  <svg xmlns=\"http://www.w3.org/2000/svg\" height=\"24px\" viewBox=\"0 -960 960 960\">\n",
              "    <path d=\"M120-120v-720h720v720H120Zm60-500h600v-160H180v160Zm220 220h160v-160H400v160Zm0 220h160v-160H400v160ZM180-400h160v-160H180v160Zm440 0h160v-160H620v160ZM180-180h160v-160H180v160Zm440 0h160v-160H620v160Z\"/>\n",
              "  </svg>\n",
              "    </button>\n",
              "\n",
              "  <style>\n",
              "    .colab-df-container {\n",
              "      display:flex;\n",
              "      gap: 12px;\n",
              "    }\n",
              "\n",
              "    .colab-df-convert {\n",
              "      background-color: #E8F0FE;\n",
              "      border: none;\n",
              "      border-radius: 50%;\n",
              "      cursor: pointer;\n",
              "      display: none;\n",
              "      fill: #1967D2;\n",
              "      height: 32px;\n",
              "      padding: 0 0 0 0;\n",
              "      width: 32px;\n",
              "    }\n",
              "\n",
              "    .colab-df-convert:hover {\n",
              "      background-color: #E2EBFA;\n",
              "      box-shadow: 0px 1px 2px rgba(60, 64, 67, 0.3), 0px 1px 3px 1px rgba(60, 64, 67, 0.15);\n",
              "      fill: #174EA6;\n",
              "    }\n",
              "\n",
              "    .colab-df-buttons div {\n",
              "      margin-bottom: 4px;\n",
              "    }\n",
              "\n",
              "    [theme=dark] .colab-df-convert {\n",
              "      background-color: #3B4455;\n",
              "      fill: #D2E3FC;\n",
              "    }\n",
              "\n",
              "    [theme=dark] .colab-df-convert:hover {\n",
              "      background-color: #434B5C;\n",
              "      box-shadow: 0px 1px 3px 1px rgba(0, 0, 0, 0.15);\n",
              "      filter: drop-shadow(0px 1px 2px rgba(0, 0, 0, 0.3));\n",
              "      fill: #FFFFFF;\n",
              "    }\n",
              "  </style>\n",
              "\n",
              "    <script>\n",
              "      const buttonEl =\n",
              "        document.querySelector('#df-c91eacfc-e7dd-4381-901a-4bfd59a516c0 button.colab-df-convert');\n",
              "      buttonEl.style.display =\n",
              "        google.colab.kernel.accessAllowed ? 'block' : 'none';\n",
              "\n",
              "      async function convertToInteractive(key) {\n",
              "        const element = document.querySelector('#df-c91eacfc-e7dd-4381-901a-4bfd59a516c0');\n",
              "        const dataTable =\n",
              "          await google.colab.kernel.invokeFunction('convertToInteractive',\n",
              "                                                    [key], {});\n",
              "        if (!dataTable) return;\n",
              "\n",
              "        const docLinkHtml = 'Like what you see? Visit the ' +\n",
              "          '<a target=\"_blank\" href=https://colab.research.google.com/notebooks/data_table.ipynb>data table notebook</a>'\n",
              "          + ' to learn more about interactive tables.';\n",
              "        element.innerHTML = '';\n",
              "        dataTable['output_type'] = 'display_data';\n",
              "        await google.colab.output.renderOutput(dataTable, element);\n",
              "        const docLink = document.createElement('div');\n",
              "        docLink.innerHTML = docLinkHtml;\n",
              "        element.appendChild(docLink);\n",
              "      }\n",
              "    </script>\n",
              "  </div>\n",
              "\n",
              "\n",
              "<div id=\"df-911f2256-413d-45e5-a977-45c78e9e7246\">\n",
              "  <button class=\"colab-df-quickchart\" onclick=\"quickchart('df-911f2256-413d-45e5-a977-45c78e9e7246')\"\n",
              "            title=\"Suggest charts\"\n",
              "            style=\"display:none;\">\n",
              "\n",
              "<svg xmlns=\"http://www.w3.org/2000/svg\" height=\"24px\"viewBox=\"0 0 24 24\"\n",
              "     width=\"24px\">\n",
              "    <g>\n",
              "        <path d=\"M19 3H5c-1.1 0-2 .9-2 2v14c0 1.1.9 2 2 2h14c1.1 0 2-.9 2-2V5c0-1.1-.9-2-2-2zM9 17H7v-7h2v7zm4 0h-2V7h2v10zm4 0h-2v-4h2v4z\"/>\n",
              "    </g>\n",
              "</svg>\n",
              "  </button>\n",
              "\n",
              "<style>\n",
              "  .colab-df-quickchart {\n",
              "      --bg-color: #E8F0FE;\n",
              "      --fill-color: #1967D2;\n",
              "      --hover-bg-color: #E2EBFA;\n",
              "      --hover-fill-color: #174EA6;\n",
              "      --disabled-fill-color: #AAA;\n",
              "      --disabled-bg-color: #DDD;\n",
              "  }\n",
              "\n",
              "  [theme=dark] .colab-df-quickchart {\n",
              "      --bg-color: #3B4455;\n",
              "      --fill-color: #D2E3FC;\n",
              "      --hover-bg-color: #434B5C;\n",
              "      --hover-fill-color: #FFFFFF;\n",
              "      --disabled-bg-color: #3B4455;\n",
              "      --disabled-fill-color: #666;\n",
              "  }\n",
              "\n",
              "  .colab-df-quickchart {\n",
              "    background-color: var(--bg-color);\n",
              "    border: none;\n",
              "    border-radius: 50%;\n",
              "    cursor: pointer;\n",
              "    display: none;\n",
              "    fill: var(--fill-color);\n",
              "    height: 32px;\n",
              "    padding: 0;\n",
              "    width: 32px;\n",
              "  }\n",
              "\n",
              "  .colab-df-quickchart:hover {\n",
              "    background-color: var(--hover-bg-color);\n",
              "    box-shadow: 0 1px 2px rgba(60, 64, 67, 0.3), 0 1px 3px 1px rgba(60, 64, 67, 0.15);\n",
              "    fill: var(--button-hover-fill-color);\n",
              "  }\n",
              "\n",
              "  .colab-df-quickchart-complete:disabled,\n",
              "  .colab-df-quickchart-complete:disabled:hover {\n",
              "    background-color: var(--disabled-bg-color);\n",
              "    fill: var(--disabled-fill-color);\n",
              "    box-shadow: none;\n",
              "  }\n",
              "\n",
              "  .colab-df-spinner {\n",
              "    border: 2px solid var(--fill-color);\n",
              "    border-color: transparent;\n",
              "    border-bottom-color: var(--fill-color);\n",
              "    animation:\n",
              "      spin 1s steps(1) infinite;\n",
              "  }\n",
              "\n",
              "  @keyframes spin {\n",
              "    0% {\n",
              "      border-color: transparent;\n",
              "      border-bottom-color: var(--fill-color);\n",
              "      border-left-color: var(--fill-color);\n",
              "    }\n",
              "    20% {\n",
              "      border-color: transparent;\n",
              "      border-left-color: var(--fill-color);\n",
              "      border-top-color: var(--fill-color);\n",
              "    }\n",
              "    30% {\n",
              "      border-color: transparent;\n",
              "      border-left-color: var(--fill-color);\n",
              "      border-top-color: var(--fill-color);\n",
              "      border-right-color: var(--fill-color);\n",
              "    }\n",
              "    40% {\n",
              "      border-color: transparent;\n",
              "      border-right-color: var(--fill-color);\n",
              "      border-top-color: var(--fill-color);\n",
              "    }\n",
              "    60% {\n",
              "      border-color: transparent;\n",
              "      border-right-color: var(--fill-color);\n",
              "    }\n",
              "    80% {\n",
              "      border-color: transparent;\n",
              "      border-right-color: var(--fill-color);\n",
              "      border-bottom-color: var(--fill-color);\n",
              "    }\n",
              "    90% {\n",
              "      border-color: transparent;\n",
              "      border-bottom-color: var(--fill-color);\n",
              "    }\n",
              "  }\n",
              "</style>\n",
              "\n",
              "  <script>\n",
              "    async function quickchart(key) {\n",
              "      const quickchartButtonEl =\n",
              "        document.querySelector('#' + key + ' button');\n",
              "      quickchartButtonEl.disabled = true;  // To prevent multiple clicks.\n",
              "      quickchartButtonEl.classList.add('colab-df-spinner');\n",
              "      try {\n",
              "        const charts = await google.colab.kernel.invokeFunction(\n",
              "            'suggestCharts', [key], {});\n",
              "      } catch (error) {\n",
              "        console.error('Error during call to suggestCharts:', error);\n",
              "      }\n",
              "      quickchartButtonEl.classList.remove('colab-df-spinner');\n",
              "      quickchartButtonEl.classList.add('colab-df-quickchart-complete');\n",
              "    }\n",
              "    (() => {\n",
              "      let quickchartButtonEl =\n",
              "        document.querySelector('#df-911f2256-413d-45e5-a977-45c78e9e7246 button');\n",
              "      quickchartButtonEl.style.display =\n",
              "        google.colab.kernel.accessAllowed ? 'block' : 'none';\n",
              "    })();\n",
              "  </script>\n",
              "</div>\n",
              "    </div>\n",
              "  </div>\n"
            ],
            "application/vnd.google.colaboratory.intrinsic+json": {
              "type": "dataframe",
              "variable_name": "df",
              "summary": "{\n  \"name\": \"df\",\n  \"rows\": 4574,\n  \"fields\": [\n    {\n      \"column\": \"label\",\n      \"properties\": {\n        \"dtype\": \"category\",\n        \"num_unique_values\": 8,\n        \"samples\": [\n          \"Politik\",\n          \"Ekonomi\",\n          \"Sumber Daya Alam\"\n        ],\n        \"semantic_type\": \"\",\n        \"description\": \"\"\n      }\n    },\n    {\n      \"column\": \"string\",\n      \"properties\": {\n        \"dtype\": \"string\",\n        \"num_unique_values\": 4256,\n        \"samples\": [\n          \"prabowo bilang gaza tunjuk tone deaf and its really disgusting peduli genosida sih lupa palestine under occupation military checkpoints illegal settlements kacau deh\",\n          \"gila deh kalo program program keren ganjar mahfud benar laksana kayak cegah aksi terorisme guna narkoba pimpin indonesia\",\n          \"entas miskin didik kunci ganjar\"\n        ],\n        \"semantic_type\": \"\",\n        \"description\": \"\"\n      }\n    }\n  ]\n}"
            }
          },
          "metadata": {},
          "execution_count": 2
        }
      ],
      "source": [
        "import pandas as pd\n",
        "\n",
        "df = pd.read_excel('/content/drive/MyDrive/dataset_no_stemming_no_NA.xlsx')\n",
        "df"
      ]
    },
    {
      "cell_type": "code",
      "execution_count": null,
      "metadata": {
        "id": "NUMyuKRTiAlg"
      },
      "outputs": [],
      "source": [
        "text = df.string\n",
        "label = df.label"
      ]
    },
    {
      "cell_type": "markdown",
      "metadata": {
        "id": "LfL-Drzu5nwt"
      },
      "source": [
        "# encode label"
      ]
    },
    {
      "cell_type": "code",
      "execution_count": null,
      "metadata": {
        "id": "-eEzNIRj6V52"
      },
      "outputs": [],
      "source": [
        "from sklearn.preprocessing import LabelEncoder\n",
        "import numpy as np\n",
        "\n",
        "label_encoder = LabelEncoder()\n",
        "# mengubah column label yang sudaah diencoded (0 1 2 3 ...) menjadi array\n",
        "encoded_labels = np.array(label_encoder.fit_transform(label))"
      ]
    },
    {
      "cell_type": "code",
      "execution_count": null,
      "metadata": {
        "colab": {
          "base_uri": "https://localhost:8080/"
        },
        "id": "FCY55jtngMRo",
        "outputId": "1123659c-ad71-4f28-86b1-fde9c4239260"
      },
      "outputs": [
        {
          "output_type": "execute_result",
          "data": {
            "text/plain": [
              "array([7, 5, 0, ..., 1, 4, 7])"
            ]
          },
          "metadata": {},
          "execution_count": 5
        }
      ],
      "source": [
        "encoded_labels"
      ]
    },
    {
      "cell_type": "markdown",
      "metadata": {
        "id": "b6PvUwLeFqC2"
      },
      "source": [
        "# load fast text model"
      ]
    },
    {
      "cell_type": "code",
      "execution_count": null,
      "metadata": {
        "id": "xGSLNARy5iqR"
      },
      "outputs": [],
      "source": [
        "from gensim.models import FastText\n",
        "\n",
        "fasttext_model = FastText.load('/content/drive/MyDrive/fast_text').wv"
      ]
    },
    {
      "cell_type": "code",
      "execution_count": null,
      "metadata": {
        "id": "wadcZF5IoaJ5",
        "colab": {
          "base_uri": "https://localhost:8080/"
        },
        "outputId": "94947081-1f7e-4aeb-fae9-4f702ca15e28"
      },
      "outputs": [
        {
          "output_type": "stream",
          "name": "stderr",
          "text": [
            "[nltk_data] Downloading package punkt to /root/nltk_data...\n",
            "[nltk_data]   Unzipping tokenizers/punkt.zip.\n"
          ]
        }
      ],
      "source": [
        "import nltk\n",
        "nltk.download('punkt')\n",
        "\n",
        "from nltk.tokenize import word_tokenize\n",
        "\n",
        "def norm_sentence_vector(sentence, w2v_model):\n",
        "    list_of_words = [word for word in word_tokenize(sentence)]\n",
        "    if len(list_of_words) == 0:\n",
        "        return np.zeros(w2v_model.vector_size)\n",
        "    vectors = [w2v_model[word] for word in list_of_words]\n",
        "    vectors = [vec / np.linalg.norm(vec) for vec in vectors if np.linalg.norm(vec) > 0]\n",
        "    sentence_vectors = np.mean(vectors, axis=0)\n",
        "    return sentence_vectors"
      ]
    },
    {
      "cell_type": "code",
      "execution_count": null,
      "metadata": {
        "colab": {
          "base_uri": "https://localhost:8080/"
        },
        "id": "BInK-ENNobCf",
        "outputId": "143ccfb9-f1f3-4950-e7c7-b6752ef0054d"
      },
      "outputs": [
        {
          "output_type": "execute_result",
          "data": {
            "text/plain": [
              "array([[-0.02507637,  0.04334563,  0.05712339, ...,  0.07183099,\n",
              "         0.11890034,  0.02410801],\n",
              "       [-0.02256739, -0.02723916,  0.01314892, ..., -0.02276447,\n",
              "         0.04404201,  0.01067955],\n",
              "       [ 0.03513144,  0.03355055, -0.01566434, ...,  0.00856539,\n",
              "         0.00327201,  0.02849905],\n",
              "       ...,\n",
              "       [ 0.02666968, -0.04206425, -0.00456647, ...,  0.03685997,\n",
              "         0.0463332 ,  0.00532845],\n",
              "       [-0.00696157, -0.00982579, -0.02834507, ...,  0.0186976 ,\n",
              "         0.00264118,  0.02309118],\n",
              "       [ 0.05915273, -0.02495828, -0.01727284, ...,  0.02846403,\n",
              "         0.03599015,  0.00625555]], dtype=float32)"
            ]
          },
          "metadata": {},
          "execution_count": 11
        }
      ],
      "source": [
        "vectors = [norm_sentence_vector(sentence, fasttext_model) for sentence in text]\n",
        "vectors = np.array(vectors)\n",
        "vectors"
      ]
    },
    {
      "cell_type": "markdown",
      "metadata": {
        "id": "FPBjrScE_Hbz"
      },
      "source": [
        "# oversampling"
      ]
    },
    {
      "cell_type": "code",
      "execution_count": null,
      "metadata": {
        "id": "BEDc81to_Q2Z"
      },
      "outputs": [],
      "source": [
        "from imblearn.over_sampling import RandomOverSampler\n",
        "\n",
        "oversampler = RandomOverSampler(random_state=42)\n",
        "data_resampled, labels_resampled = oversampler.fit_resample(vectors, encoded_labels)"
      ]
    },
    {
      "cell_type": "code",
      "execution_count": null,
      "metadata": {
        "id": "CT6K6Ktg_fzp"
      },
      "outputs": [],
      "source": [
        "from tensorflow.keras.utils import to_categorical\n",
        "\n",
        "# jumlah kelas\n",
        "num_classes = len(label_encoder.classes_)\n",
        "\n",
        "# convert oversampled labels to categorical (one-hot encoded)\n",
        "categorical_labels_resampled = to_categorical(labels_resampled, num_classes)"
      ]
    },
    {
      "cell_type": "code",
      "execution_count": null,
      "metadata": {
        "colab": {
          "base_uri": "https://localhost:8080/"
        },
        "id": "BmNItrVyBbry",
        "outputId": "2377b3e8-1941-422e-a2fd-e8c68e4b7027"
      },
      "outputs": [
        {
          "output_type": "execute_result",
          "data": {
            "text/plain": [
              "array([[0., 0., 0., ..., 0., 0., 1.],\n",
              "       [0., 0., 0., ..., 1., 0., 0.],\n",
              "       [1., 0., 0., ..., 0., 0., 0.],\n",
              "       ...,\n",
              "       [0., 0., 0., ..., 0., 0., 1.],\n",
              "       [0., 0., 0., ..., 0., 0., 1.],\n",
              "       [0., 0., 0., ..., 0., 0., 1.]], dtype=float32)"
            ]
          },
          "metadata": {},
          "execution_count": 14
        }
      ],
      "source": [
        "categorical_labels_resampled"
      ]
    },
    {
      "cell_type": "markdown",
      "metadata": {
        "id": "6uRj7HpwFbnF"
      },
      "source": [
        "# split train test"
      ]
    },
    {
      "cell_type": "code",
      "execution_count": null,
      "metadata": {
        "id": "ghoPWNMiFgzU"
      },
      "outputs": [],
      "source": [
        "from sklearn.model_selection import train_test_split\n",
        "\n",
        "X_train, X_test, y_train, y_test = train_test_split(data_resampled, categorical_labels_resampled, test_size=0.1, random_state=42)"
      ]
    },
    {
      "cell_type": "code",
      "execution_count": null,
      "metadata": {
        "colab": {
          "base_uri": "https://localhost:8080/"
        },
        "id": "wU6LjVh_Gw9r",
        "outputId": "431e1ce2-719a-402f-e7e2-f4b1c4734fae"
      },
      "outputs": [
        {
          "output_type": "execute_result",
          "data": {
            "text/plain": [
              "array([[1., 0., 0., ..., 0., 0., 0.],\n",
              "       [0., 0., 0., ..., 1., 0., 0.],\n",
              "       [0., 0., 0., ..., 0., 1., 0.],\n",
              "       ...,\n",
              "       [1., 0., 0., ..., 0., 0., 0.],\n",
              "       [0., 1., 0., ..., 0., 0., 0.],\n",
              "       [0., 0., 0., ..., 0., 0., 0.]], dtype=float32)"
            ]
          },
          "metadata": {},
          "execution_count": 16
        }
      ],
      "source": [
        "y_train"
      ]
    },
    {
      "cell_type": "code",
      "execution_count": null,
      "metadata": {
        "colab": {
          "base_uri": "https://localhost:8080/"
        },
        "id": "3jK3VADwGyDD",
        "outputId": "40ce2fbc-9906-42bd-dcfb-4beddcb156d1"
      },
      "outputs": [
        {
          "output_type": "execute_result",
          "data": {
            "text/plain": [
              "array([[ 0.0148256 ,  0.01823165,  0.02949005, ..., -0.01721282,\n",
              "         0.00295838, -0.01668224],\n",
              "       [ 0.05834955,  0.02690668,  0.01819873, ...,  0.01765052,\n",
              "        -0.01533098, -0.00969144],\n",
              "       [ 0.00380409, -0.00991156, -0.00049538, ...,  0.0157887 ,\n",
              "         0.02287425,  0.00825186],\n",
              "       ...,\n",
              "       [-0.01536444,  0.01259366, -0.00467653, ..., -0.01527123,\n",
              "        -0.00394591,  0.01479772],\n",
              "       [ 0.02873073, -0.008885  , -0.00479184, ...,  0.04052548,\n",
              "         0.01697306,  0.02949303],\n",
              "       [ 0.02554273,  0.01689676,  0.04354575, ...,  0.02797827,\n",
              "        -0.00683479,  0.02490154]], dtype=float32)"
            ]
          },
          "metadata": {},
          "execution_count": 17
        }
      ],
      "source": [
        "X_train"
      ]
    },
    {
      "cell_type": "markdown",
      "metadata": {
        "id": "pJaeG6TrGRCI"
      },
      "source": [
        "# build model"
      ]
    },
    {
      "cell_type": "code",
      "execution_count": null,
      "metadata": {
        "id": "P6bykq-AGEsZ"
      },
      "outputs": [],
      "source": [
        "import tensorflow as tf\n",
        "from tensorflow.keras.preprocessing.text import Tokenizer\n",
        "\n",
        "tokenizer = Tokenizer()\n",
        "tokenizer.fit_on_texts(text)\n",
        "word_index = tokenizer.word_index"
      ]
    },
    {
      "cell_type": "code",
      "execution_count": null,
      "metadata": {
        "colab": {
          "base_uri": "https://localhost:8080/"
        },
        "id": "GmlXe3nHLPhb",
        "outputId": "8f79fe12-ae66-481e-c5ef-76ddd3d17cb0"
      },
      "outputs": [
        {
          "output_type": "execute_result",
          "data": {
            "text/plain": [
              "6880"
            ]
          },
          "metadata": {},
          "execution_count": 19
        }
      ],
      "source": [
        "len(word_index)"
      ]
    },
    {
      "cell_type": "code",
      "execution_count": null,
      "metadata": {
        "colab": {
          "base_uri": "https://localhost:8080/"
        },
        "id": "-0nwogxWLcqH",
        "outputId": "71521d43-7d1d-4726-cd3e-d87dc2941e71"
      },
      "outputs": [
        {
          "output_type": "execute_result",
          "data": {
            "text/plain": [
              "4574"
            ]
          },
          "metadata": {},
          "execution_count": 20
        }
      ],
      "source": [
        "len(vectors)"
      ]
    },
    {
      "cell_type": "code",
      "execution_count": null,
      "metadata": {
        "colab": {
          "base_uri": "https://localhost:8080/"
        },
        "id": "5nQ5gM0Tr8Uu",
        "outputId": "18e929f4-c171-40e8-aa7b-14670cbac488"
      },
      "outputs": [
        {
          "output_type": "stream",
          "name": "stdout",
          "text": [
            "Model: \"sequential_2\"\n",
            "_________________________________________________________________\n",
            " Layer (type)                Output Shape              Param #   \n",
            "=================================================================\n",
            " embedding_2 (Embedding)     (None, None, 128)         585472    \n",
            "                                                                 \n",
            " lstm_4 (LSTM)               (None, None, 128)         131584    \n",
            "                                                                 \n",
            " dropout_4 (Dropout)         (None, None, 128)         0         \n",
            "                                                                 \n",
            " lstm_5 (LSTM)               (None, 64)                49408     \n",
            "                                                                 \n",
            " dropout_5 (Dropout)         (None, 64)                0         \n",
            "                                                                 \n",
            " dense_2 (Dense)             (None, 8)                 520       \n",
            "                                                                 \n",
            "=================================================================\n",
            "Total params: 766984 (2.93 MB)\n",
            "Trainable params: 766984 (2.93 MB)\n",
            "Non-trainable params: 0 (0.00 Byte)\n",
            "_________________________________________________________________\n"
          ]
        }
      ],
      "source": [
        "from tensorflow.keras.models import Sequential\n",
        "from tensorflow.keras.layers import Embedding, LSTM, Dense, Dropout\n",
        "from tensorflow.keras.optimizers import Adam\n",
        "\n",
        "model = Sequential()\n",
        "model.add(Embedding(input_dim=len(vectors),\n",
        "                    output_dim=128,\n",
        "                    weights=[vectors],\n",
        "                    trainable=True))\n",
        "model.add(LSTM(128, activation='tanh', return_sequences=True))\n",
        "model.add(Dropout(0.2))\n",
        "model.add(LSTM(64, activation='tanh'))\n",
        "model.add(Dropout(0.2))\n",
        "model.add(Dense(num_classes, activation='softmax'))\n",
        "\n",
        "model.compile(optimizer=Adam(learning_rate=0.01),\n",
        "              loss='categorical_crossentropy',\n",
        "              metrics=['accuracy'])\n",
        "\n",
        "model.summary()"
      ]
    },
    {
      "cell_type": "code",
      "execution_count": null,
      "metadata": {
        "id": "e2-EiBlRpt9W"
      },
      "outputs": [],
      "source": [
        "from tensorflow.keras.callbacks import EarlyStopping\n",
        "\n",
        "early_stopping = EarlyStopping(monitor='val_loss', patience=10, restore_best_weights=True)"
      ]
    },
    {
      "cell_type": "code",
      "execution_count": null,
      "metadata": {
        "colab": {
          "base_uri": "https://localhost:8080/"
        },
        "id": "DzWO8kJzr-ts",
        "outputId": "9c651592-c277-405e-8319-ba1ce7bda6ac"
      },
      "outputs": [
        {
          "output_type": "stream",
          "name": "stdout",
          "text": [
            "Epoch 1/40\n",
            "598/598 [==============================] - 234s 382ms/step - loss: 2.0833 - accuracy: 0.1287 - val_loss: 2.0834 - val_accuracy: 0.1215\n",
            "Epoch 2/40\n",
            "598/598 [==============================] - 228s 381ms/step - loss: 2.0810 - accuracy: 0.1252 - val_loss: 2.0812 - val_accuracy: 0.1186\n",
            "Epoch 3/40\n",
            "598/598 [==============================] - 225s 376ms/step - loss: 2.0809 - accuracy: 0.1245 - val_loss: 2.0791 - val_accuracy: 0.1309\n",
            "Epoch 4/40\n",
            "598/598 [==============================] - 228s 381ms/step - loss: 2.0807 - accuracy: 0.1234 - val_loss: 2.0797 - val_accuracy: 0.1196\n",
            "Epoch 5/40\n",
            "598/598 [==============================] - 225s 376ms/step - loss: 2.0809 - accuracy: 0.1209 - val_loss: 2.0804 - val_accuracy: 0.1196\n",
            "Epoch 6/40\n",
            "598/598 [==============================] - 226s 377ms/step - loss: 2.0804 - accuracy: 0.1294 - val_loss: 2.0805 - val_accuracy: 0.1314\n",
            "Epoch 7/40\n",
            "598/598 [==============================] - 224s 375ms/step - loss: 2.0809 - accuracy: 0.1269 - val_loss: 2.0793 - val_accuracy: 0.1281\n",
            "Epoch 8/40\n",
            "598/598 [==============================] - 225s 376ms/step - loss: 2.0808 - accuracy: 0.1238 - val_loss: 2.0805 - val_accuracy: 0.1266\n",
            "Epoch 9/40\n",
            "598/598 [==============================] - 224s 375ms/step - loss: 2.0807 - accuracy: 0.1254 - val_loss: 2.0816 - val_accuracy: 0.1234\n",
            "Epoch 10/40\n",
            "598/598 [==============================] - 225s 377ms/step - loss: 2.0810 - accuracy: 0.1248 - val_loss: 2.0796 - val_accuracy: 0.1215\n",
            "Epoch 11/40\n",
            "598/598 [==============================] - 224s 375ms/step - loss: 2.0808 - accuracy: 0.1259 - val_loss: 2.0792 - val_accuracy: 0.1309\n",
            "Epoch 12/40\n",
            "598/598 [==============================] - 225s 376ms/step - loss: 2.0810 - accuracy: 0.1212 - val_loss: 2.0800 - val_accuracy: 0.1309\n",
            "Epoch 13/40\n",
            "598/598 [==============================] - 225s 376ms/step - loss: 2.0808 - accuracy: 0.1243 - val_loss: 2.0803 - val_accuracy: 0.1186\n",
            "74/74 [==============================] - 9s 124ms/step - loss: 2.0804 - accuracy: 0.1182\n",
            "Test Accuracy: 11.82%\n"
          ]
        }
      ],
      "source": [
        "history = model.fit(X_train, y_train, epochs=40, validation_split=0.1, callbacks=[early_stopping])\n",
        "\n",
        "loss, accuracy = model.evaluate(X_test, y_test)\n",
        "print(f'Test Accuracy: {accuracy * 100:.2f}%')"
      ]
    },
    {
      "cell_type": "markdown",
      "metadata": {
        "id": "1sj1z00JzzUa"
      },
      "source": [
        "# balanced accuracy"
      ]
    },
    {
      "cell_type": "code",
      "execution_count": null,
      "metadata": {
        "id": "8A_xVboL5THt"
      },
      "outputs": [],
      "source": [
        "from tensorflow.keras import backend as K\n",
        "\n",
        "def balanced_accuracy(y_true, y_pred):\n",
        "    # convert hasil prediksi dari one hot encoded ke multi-class\n",
        "    y_pred = K.argmax(y_pred, axis=-1)\n",
        "    y_true = K.argmax(y_true, axis=-1)\n",
        "\n",
        "    # true positive, true negative, false positive, false negative\n",
        "    true_pos = K.sum(K.cast(y_true == y_pred, 'float32') * K.cast(y_true == 1, 'float32'))\n",
        "    true_neg = K.sum(K.cast(y_true == y_pred, 'float32') * K.cast(y_true == 0, 'float32'))\n",
        "    false_pos = K.sum(K.cast(y_true != y_pred, 'float32') * K.cast(y_true == 0, 'float32'))\n",
        "    false_neg = K.sum(K.cast(y_true != y_pred, 'float32') * K.cast(y_true == 1, 'float32'))\n",
        "\n",
        "    # recall\n",
        "    recall_pos = true_pos / (true_pos + false_neg + K.epsilon())\n",
        "    recall_neg = true_neg / (true_neg + false_pos + K.epsilon())\n",
        "\n",
        "    balanced_acc = (recall_pos + recall_neg) / 2\n",
        "    return balanced_acc"
      ]
    },
    {
      "cell_type": "code",
      "execution_count": null,
      "metadata": {
        "id": "uqKEkVNF6Jup",
        "colab": {
          "base_uri": "https://localhost:8080/"
        },
        "outputId": "6cb3b46f-331b-41b8-e6be-c195fb0e8f5c"
      },
      "outputs": [
        {
          "output_type": "stream",
          "name": "stdout",
          "text": [
            "74/74 [==============================] - 8s 90ms/step\n",
            "Balanced accuracy:  0.00%\n"
          ]
        }
      ],
      "source": [
        "prediction = model.predict(X_test)\n",
        "\n",
        "acc = balanced_accuracy(y_test, prediction)\n",
        "\n",
        "print(f'Balanced accuracy: {acc * 100: .2f}%')"
      ]
    }
  ],
  "metadata": {
    "colab": {
      "provenance": [],
      "toc_visible": true
    },
    "kernelspec": {
      "display_name": "Python 3",
      "name": "python3"
    },
    "language_info": {
      "name": "python"
    }
  },
  "nbformat": 4,
  "nbformat_minor": 0
}